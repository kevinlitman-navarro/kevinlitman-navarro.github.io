{
 "cells": [
  {
   "cell_type": "code",
   "execution_count": 1,
   "metadata": {},
   "outputs": [],
   "source": [
    "import pandas as pd\n",
    "from bs4 import BeautifulSoup\n",
    "import requests\n",
    "import numpy as np"
   ]
  },
  {
   "cell_type": "code",
   "execution_count": 2,
   "metadata": {},
   "outputs": [],
   "source": [
    "response = requests.get('https://www.basketball-reference.com/friv/continuity.html').content\n",
    "soup_doc = BeautifulSoup(response, 'html.parser')"
   ]
  },
  {
   "cell_type": "code",
   "execution_count": 3,
   "metadata": {},
   "outputs": [],
   "source": [
    "table = soup_doc.table"
   ]
  },
  {
   "cell_type": "code",
   "execution_count": 4,
   "metadata": {},
   "outputs": [],
   "source": [
    "team_names = table.thead.find_all('th')[1:]"
   ]
  },
  {
   "cell_type": "code",
   "execution_count": 5,
   "metadata": {},
   "outputs": [
    {
     "data": {
      "text/plain": [
       "'ATL'"
      ]
     },
     "execution_count": 5,
     "metadata": {},
     "output_type": "execute_result"
    }
   ],
   "source": [
    "team_names[0].text"
   ]
  },
  {
   "cell_type": "code",
   "execution_count": 6,
   "metadata": {},
   "outputs": [],
   "source": [
    "seasons = table.find_all('tr')[1:]"
   ]
  },
  {
   "cell_type": "code",
   "execution_count": 7,
   "metadata": {},
   "outputs": [
    {
     "data": {
      "text/plain": [
       "'61%'"
      ]
     },
     "execution_count": 7,
     "metadata": {},
     "output_type": "execute_result"
    }
   ],
   "source": [
    "seasons[15].find_all('td')[29].text"
   ]
  },
  {
   "cell_type": "code",
   "execution_count": 8,
   "metadata": {},
   "outputs": [
    {
     "data": {
      "text/plain": [
       "'2017-1851%41%73%51%53%74%80%59%81%59%39%36%41%56%79%77%53%51%60%37%52%62%61%64%93%44%87%84%51%82%'"
      ]
     },
     "execution_count": 8,
     "metadata": {},
     "output_type": "execute_result"
    }
   ],
   "source": [
    "seasons[0].text"
   ]
  },
  {
   "cell_type": "code",
   "execution_count": 9,
   "metadata": {},
   "outputs": [
    {
     "data": {
      "text/plain": [
       "'74%'"
      ]
     },
     "execution_count": 9,
     "metadata": {},
     "output_type": "execute_result"
    }
   ],
   "source": [
    "seasons[15].find_all('td')[0].text"
   ]
  },
  {
   "cell_type": "code",
   "execution_count": 10,
   "metadata": {},
   "outputs": [
    {
     "data": {
      "text/plain": [
       "'61%'"
      ]
     },
     "execution_count": 10,
     "metadata": {},
     "output_type": "execute_result"
    }
   ],
   "source": [
    "table.find_all('tr')[16].find_all('td')[29].text"
   ]
  },
  {
   "cell_type": "code",
   "execution_count": 34,
   "metadata": {},
   "outputs": [
    {
     "data": {
      "text/plain": [
       "['Record:</b> 24-58<br>',\n",
       " 'Head Coach:</b><br>Mike Budenholzer<br><br>',\n",
       " \"Returning Players:</b><br>Taurean Prince - 2464 MP<br>Dennis Schroder - 2078 MP<br>Kent Bazemore - 1789 MP<br>Ersan Ilyasova - 1175 MP<br>Mike Muscala - 1060 MP<br>Malcolm Delaney - 1014 MP<br>DeAndre' Bembry - 455 MP<br><br>\",\n",
       " 'New Players:</b><br>John Collins - 1785 MP<br>Dewayne Dedmon - 1542 MP<br>Marco Belinelli - 1210 MP<br>Isaiah Taylor - 1167 MP<br>Tyler Dorsey - 974 MP<br>Miles Plumlee - 918 MP<br>Luke Babbitt - 570 MP<br>Tyler Cavanaugh - 518 MP<br>Damion Lee - 404 MP<br>Josh Magette - 216 MP<br>Andrew White - 209 MP<br>Jaylen Morris - 98 MP<br>Antonius Cleveland - 42 MP<br>Nicolas Brussino - 10 MP<br>Jeremy Evans - 5 MP</pre>']"
      ]
     },
     "execution_count": 34,
     "metadata": {},
     "output_type": "execute_result"
    }
   ],
   "source": [
    "seasons[0].find_all('td')[0]['data-tip'][8:].split('<b>')"
   ]
  },
  {
   "cell_type": "code",
   "execution_count": 19,
   "metadata": {},
   "outputs": [
    {
     "data": {
      "text/plain": [
       "'2002'"
      ]
     },
     "execution_count": 19,
     "metadata": {},
     "output_type": "execute_result"
    }
   ],
   "source": [
    "table.find_all('tr')[16].text[:4]"
   ]
  },
  {
   "cell_type": "code",
   "execution_count": 63,
   "metadata": {},
   "outputs": [],
   "source": [
    "rows = []\n",
    "\n",
    "for season in seasons:\n",
    "    continuity_dict = {}\n",
    "    continuity_dict['season'] = season.text[:4]\n",
    "    continuity_dict['ATL'] = season.find_all('td')[0].text\n",
    "    continuity_dict['BOS'] = season.find_all('td')[1].text\n",
    "    continuity_dict['CHA'] = season.find_all('td')[2].text\n",
    "    continuity_dict['CHI'] = season.find_all('td')[3].text\n",
    "    continuity_dict['CLE'] = season.find_all('td')[4].text\n",
    "    continuity_dict['DAL'] = season.find_all('td')[5].text\n",
    "    continuity_dict['DEN'] = season.find_all('td')[6].text\n",
    "    continuity_dict['DET'] = season.find_all('td')[7].text\n",
    "    continuity_dict['GSW'] = season.find_all('td')[8].text\n",
    "    continuity_dict['HOU'] = season.find_all('td')[9].text\n",
    "    continuity_dict['IND'] = season.find_all('td')[10].text\n",
    "    continuity_dict['LAC'] = season.find_all('td')[11].text\n",
    "    continuity_dict['LAL'] = season.find_all('td')[12].text\n",
    "    continuity_dict['MEM'] = season.find_all('td')[13].text\n",
    "    continuity_dict['MIA'] = season.find_all('td')[14].text\n",
    "    continuity_dict['MIL'] = season.find_all('td')[15].text\n",
    "    continuity_dict['MIN'] = season.find_all('td')[16].text\n",
    "    continuity_dict['NJN'] = season.find_all('td')[17].text\n",
    "    continuity_dict['NOH'] = season.find_all('td')[18].text\n",
    "    continuity_dict['NYK'] = season.find_all('td')[19].text\n",
    "    continuity_dict['OKC'] = season.find_all('td')[20].text\n",
    "    continuity_dict['ORL'] = season.find_all('td')[21].text\n",
    "    continuity_dict['PHI'] = season.find_all('td')[22].text\n",
    "    continuity_dict['PHO'] = season.find_all('td')[23].text\n",
    "    continuity_dict['POR'] = season.find_all('td')[24].text\n",
    "    continuity_dict['SAC'] = season.find_all('td')[25].text\n",
    "    continuity_dict['SAS'] = season.find_all('td')[26].text\n",
    "    continuity_dict['TOR'] = season.find_all('td')[27].text\n",
    "    continuity_dict['UTA'] = season.find_all('td')[28].text\n",
    "    continuity_dict['WAS'] = season.find_all('td')[29].text\n",
    "    rows.append(continuity_dict)\n",
    "    \n",
    "df = pd.DataFrame(rows)"
   ]
  },
  {
   "cell_type": "code",
   "execution_count": 66,
   "metadata": {},
   "outputs": [],
   "source": [
    "df = df.set_index('season')"
   ]
  },
  {
   "cell_type": "code",
   "execution_count": 67,
   "metadata": {},
   "outputs": [
    {
     "data": {
      "text/html": [
       "<div>\n",
       "<style scoped>\n",
       "    .dataframe tbody tr th:only-of-type {\n",
       "        vertical-align: middle;\n",
       "    }\n",
       "\n",
       "    .dataframe tbody tr th {\n",
       "        vertical-align: top;\n",
       "    }\n",
       "\n",
       "    .dataframe thead th {\n",
       "        text-align: right;\n",
       "    }\n",
       "</style>\n",
       "<table border=\"1\" class=\"dataframe\">\n",
       "  <thead>\n",
       "    <tr style=\"text-align: right;\">\n",
       "      <th></th>\n",
       "      <th>ATL</th>\n",
       "      <th>BOS</th>\n",
       "      <th>CHA</th>\n",
       "      <th>CHI</th>\n",
       "      <th>CLE</th>\n",
       "      <th>DAL</th>\n",
       "      <th>DEN</th>\n",
       "      <th>DET</th>\n",
       "      <th>GSW</th>\n",
       "      <th>HOU</th>\n",
       "      <th>...</th>\n",
       "      <th>OKC</th>\n",
       "      <th>ORL</th>\n",
       "      <th>PHI</th>\n",
       "      <th>PHO</th>\n",
       "      <th>POR</th>\n",
       "      <th>SAC</th>\n",
       "      <th>SAS</th>\n",
       "      <th>TOR</th>\n",
       "      <th>UTA</th>\n",
       "      <th>WAS</th>\n",
       "    </tr>\n",
       "    <tr>\n",
       "      <th>season</th>\n",
       "      <th></th>\n",
       "      <th></th>\n",
       "      <th></th>\n",
       "      <th></th>\n",
       "      <th></th>\n",
       "      <th></th>\n",
       "      <th></th>\n",
       "      <th></th>\n",
       "      <th></th>\n",
       "      <th></th>\n",
       "      <th></th>\n",
       "      <th></th>\n",
       "      <th></th>\n",
       "      <th></th>\n",
       "      <th></th>\n",
       "      <th></th>\n",
       "      <th></th>\n",
       "      <th></th>\n",
       "      <th></th>\n",
       "      <th></th>\n",
       "      <th></th>\n",
       "    </tr>\n",
       "  </thead>\n",
       "  <tbody>\n",
       "    <tr>\n",
       "      <th>2017</th>\n",
       "      <td>51%</td>\n",
       "      <td>41%</td>\n",
       "      <td>73%</td>\n",
       "      <td>51%</td>\n",
       "      <td>53%</td>\n",
       "      <td>74%</td>\n",
       "      <td>80%</td>\n",
       "      <td>59%</td>\n",
       "      <td>81%</td>\n",
       "      <td>59%</td>\n",
       "      <td>...</td>\n",
       "      <td>52%</td>\n",
       "      <td>62%</td>\n",
       "      <td>61%</td>\n",
       "      <td>64%</td>\n",
       "      <td>93%</td>\n",
       "      <td>44%</td>\n",
       "      <td>87%</td>\n",
       "      <td>84%</td>\n",
       "      <td>51%</td>\n",
       "      <td>82%</td>\n",
       "    </tr>\n",
       "    <tr>\n",
       "      <th>2016</th>\n",
       "      <td>68%</td>\n",
       "      <td>79%</td>\n",
       "      <td>80%</td>\n",
       "      <td>46%</td>\n",
       "      <td>83%</td>\n",
       "      <td>50%</td>\n",
       "      <td>71%</td>\n",
       "      <td>75%</td>\n",
       "      <td>67%</td>\n",
       "      <td>65%</td>\n",
       "      <td>...</td>\n",
       "      <td>53%</td>\n",
       "      <td>56%</td>\n",
       "      <td>50%</td>\n",
       "      <td>68%</td>\n",
       "      <td>85%</td>\n",
       "      <td>47%</td>\n",
       "      <td>69%</td>\n",
       "      <td>84%</td>\n",
       "      <td>70%</td>\n",
       "      <td>77%</td>\n",
       "    </tr>\n",
       "    <tr>\n",
       "      <th>2015</th>\n",
       "      <td>87%</td>\n",
       "      <td>85%</td>\n",
       "      <td>51%</td>\n",
       "      <td>90%</td>\n",
       "      <td>84%</td>\n",
       "      <td>55%</td>\n",
       "      <td>70%</td>\n",
       "      <td>50%</td>\n",
       "      <td>95%</td>\n",
       "      <td>85%</td>\n",
       "      <td>...</td>\n",
       "      <td>93%</td>\n",
       "      <td>76%</td>\n",
       "      <td>63%</td>\n",
       "      <td>53%</td>\n",
       "      <td>47%</td>\n",
       "      <td>52%</td>\n",
       "      <td>69%</td>\n",
       "      <td>62%</td>\n",
       "      <td>77%</td>\n",
       "      <td>75%</td>\n",
       "    </tr>\n",
       "    <tr>\n",
       "      <th>2014</th>\n",
       "      <td>88%</td>\n",
       "      <td>50%</td>\n",
       "      <td>61%</td>\n",
       "      <td>64%</td>\n",
       "      <td>39%</td>\n",
       "      <td>38%</td>\n",
       "      <td>62%</td>\n",
       "      <td>57%</td>\n",
       "      <td>80%</td>\n",
       "      <td>48%</td>\n",
       "      <td>...</td>\n",
       "      <td>66%</td>\n",
       "      <td>52%</td>\n",
       "      <td>29%</td>\n",
       "      <td>81%</td>\n",
       "      <td>80%</td>\n",
       "      <td>70%</td>\n",
       "      <td>98%</td>\n",
       "      <td>82%</td>\n",
       "      <td>61%</td>\n",
       "      <td>72%</td>\n",
       "    </tr>\n",
       "    <tr>\n",
       "      <th>2013</th>\n",
       "      <td>53%</td>\n",
       "      <td>59%</td>\n",
       "      <td>64%</td>\n",
       "      <td>69%</td>\n",
       "      <td>60%</td>\n",
       "      <td>48%</td>\n",
       "      <td>62%</td>\n",
       "      <td>59%</td>\n",
       "      <td>71%</td>\n",
       "      <td>77%</td>\n",
       "      <td>...</td>\n",
       "      <td>89%</td>\n",
       "      <td>81%</td>\n",
       "      <td>37%</td>\n",
       "      <td>46%</td>\n",
       "      <td>65%</td>\n",
       "      <td>53%</td>\n",
       "      <td>83%</td>\n",
       "      <td>68%</td>\n",
       "      <td>62%</td>\n",
       "      <td>77%</td>\n",
       "    </tr>\n",
       "  </tbody>\n",
       "</table>\n",
       "<p>5 rows × 30 columns</p>\n",
       "</div>"
      ],
      "text/plain": [
       "        ATL  BOS  CHA  CHI  CLE  DAL  DEN  DET  GSW  HOU ...   OKC  ORL  PHI  \\\n",
       "season                                                   ...                   \n",
       "2017    51%  41%  73%  51%  53%  74%  80%  59%  81%  59% ...   52%  62%  61%   \n",
       "2016    68%  79%  80%  46%  83%  50%  71%  75%  67%  65% ...   53%  56%  50%   \n",
       "2015    87%  85%  51%  90%  84%  55%  70%  50%  95%  85% ...   93%  76%  63%   \n",
       "2014    88%  50%  61%  64%  39%  38%  62%  57%  80%  48% ...   66%  52%  29%   \n",
       "2013    53%  59%  64%  69%  60%  48%  62%  59%  71%  77% ...   89%  81%  37%   \n",
       "\n",
       "        PHO  POR  SAC  SAS  TOR  UTA  WAS  \n",
       "season                                     \n",
       "2017    64%  93%  44%  87%  84%  51%  82%  \n",
       "2016    68%  85%  47%  69%  84%  70%  77%  \n",
       "2015    53%  47%  52%  69%  62%  77%  75%  \n",
       "2014    81%  80%  70%  98%  82%  61%  72%  \n",
       "2013    46%  65%  53%  83%  68%  62%  77%  \n",
       "\n",
       "[5 rows x 30 columns]"
      ]
     },
     "execution_count": 67,
     "metadata": {},
     "output_type": "execute_result"
    }
   ],
   "source": [
    "df.head()"
   ]
  },
  {
   "cell_type": "code",
   "execution_count": 75,
   "metadata": {},
   "outputs": [],
   "source": [
    "df.replace({'%': ''}, regex=True, inplace=True)"
   ]
  },
  {
   "cell_type": "code",
   "execution_count": 76,
   "metadata": {},
   "outputs": [
    {
     "data": {
      "text/html": [
       "<div>\n",
       "<style scoped>\n",
       "    .dataframe tbody tr th:only-of-type {\n",
       "        vertical-align: middle;\n",
       "    }\n",
       "\n",
       "    .dataframe tbody tr th {\n",
       "        vertical-align: top;\n",
       "    }\n",
       "\n",
       "    .dataframe thead th {\n",
       "        text-align: right;\n",
       "    }\n",
       "</style>\n",
       "<table border=\"1\" class=\"dataframe\">\n",
       "  <thead>\n",
       "    <tr style=\"text-align: right;\">\n",
       "      <th></th>\n",
       "      <th>ATL</th>\n",
       "      <th>BOS</th>\n",
       "      <th>CHA</th>\n",
       "      <th>CHI</th>\n",
       "      <th>CLE</th>\n",
       "      <th>DAL</th>\n",
       "      <th>DEN</th>\n",
       "      <th>DET</th>\n",
       "      <th>GSW</th>\n",
       "      <th>HOU</th>\n",
       "      <th>...</th>\n",
       "      <th>OKC</th>\n",
       "      <th>ORL</th>\n",
       "      <th>PHI</th>\n",
       "      <th>PHO</th>\n",
       "      <th>POR</th>\n",
       "      <th>SAC</th>\n",
       "      <th>SAS</th>\n",
       "      <th>TOR</th>\n",
       "      <th>UTA</th>\n",
       "      <th>WAS</th>\n",
       "    </tr>\n",
       "    <tr>\n",
       "      <th>season</th>\n",
       "      <th></th>\n",
       "      <th></th>\n",
       "      <th></th>\n",
       "      <th></th>\n",
       "      <th></th>\n",
       "      <th></th>\n",
       "      <th></th>\n",
       "      <th></th>\n",
       "      <th></th>\n",
       "      <th></th>\n",
       "      <th></th>\n",
       "      <th></th>\n",
       "      <th></th>\n",
       "      <th></th>\n",
       "      <th></th>\n",
       "      <th></th>\n",
       "      <th></th>\n",
       "      <th></th>\n",
       "      <th></th>\n",
       "      <th></th>\n",
       "      <th></th>\n",
       "    </tr>\n",
       "  </thead>\n",
       "  <tbody>\n",
       "    <tr>\n",
       "      <th>2017</th>\n",
       "      <td>51</td>\n",
       "      <td>41</td>\n",
       "      <td>73</td>\n",
       "      <td>51</td>\n",
       "      <td>53</td>\n",
       "      <td>74</td>\n",
       "      <td>80</td>\n",
       "      <td>59</td>\n",
       "      <td>81</td>\n",
       "      <td>59</td>\n",
       "      <td>...</td>\n",
       "      <td>52</td>\n",
       "      <td>62</td>\n",
       "      <td>61</td>\n",
       "      <td>64</td>\n",
       "      <td>93</td>\n",
       "      <td>44</td>\n",
       "      <td>87</td>\n",
       "      <td>84</td>\n",
       "      <td>51</td>\n",
       "      <td>82</td>\n",
       "    </tr>\n",
       "    <tr>\n",
       "      <th>2016</th>\n",
       "      <td>68</td>\n",
       "      <td>79</td>\n",
       "      <td>80</td>\n",
       "      <td>46</td>\n",
       "      <td>83</td>\n",
       "      <td>50</td>\n",
       "      <td>71</td>\n",
       "      <td>75</td>\n",
       "      <td>67</td>\n",
       "      <td>65</td>\n",
       "      <td>...</td>\n",
       "      <td>53</td>\n",
       "      <td>56</td>\n",
       "      <td>50</td>\n",
       "      <td>68</td>\n",
       "      <td>85</td>\n",
       "      <td>47</td>\n",
       "      <td>69</td>\n",
       "      <td>84</td>\n",
       "      <td>70</td>\n",
       "      <td>77</td>\n",
       "    </tr>\n",
       "    <tr>\n",
       "      <th>2015</th>\n",
       "      <td>87</td>\n",
       "      <td>85</td>\n",
       "      <td>51</td>\n",
       "      <td>90</td>\n",
       "      <td>84</td>\n",
       "      <td>55</td>\n",
       "      <td>70</td>\n",
       "      <td>50</td>\n",
       "      <td>95</td>\n",
       "      <td>85</td>\n",
       "      <td>...</td>\n",
       "      <td>93</td>\n",
       "      <td>76</td>\n",
       "      <td>63</td>\n",
       "      <td>53</td>\n",
       "      <td>47</td>\n",
       "      <td>52</td>\n",
       "      <td>69</td>\n",
       "      <td>62</td>\n",
       "      <td>77</td>\n",
       "      <td>75</td>\n",
       "    </tr>\n",
       "    <tr>\n",
       "      <th>2014</th>\n",
       "      <td>88</td>\n",
       "      <td>50</td>\n",
       "      <td>61</td>\n",
       "      <td>64</td>\n",
       "      <td>39</td>\n",
       "      <td>38</td>\n",
       "      <td>62</td>\n",
       "      <td>57</td>\n",
       "      <td>80</td>\n",
       "      <td>48</td>\n",
       "      <td>...</td>\n",
       "      <td>66</td>\n",
       "      <td>52</td>\n",
       "      <td>29</td>\n",
       "      <td>81</td>\n",
       "      <td>80</td>\n",
       "      <td>70</td>\n",
       "      <td>98</td>\n",
       "      <td>82</td>\n",
       "      <td>61</td>\n",
       "      <td>72</td>\n",
       "    </tr>\n",
       "    <tr>\n",
       "      <th>2013</th>\n",
       "      <td>53</td>\n",
       "      <td>59</td>\n",
       "      <td>64</td>\n",
       "      <td>69</td>\n",
       "      <td>60</td>\n",
       "      <td>48</td>\n",
       "      <td>62</td>\n",
       "      <td>59</td>\n",
       "      <td>71</td>\n",
       "      <td>77</td>\n",
       "      <td>...</td>\n",
       "      <td>89</td>\n",
       "      <td>81</td>\n",
       "      <td>37</td>\n",
       "      <td>46</td>\n",
       "      <td>65</td>\n",
       "      <td>53</td>\n",
       "      <td>83</td>\n",
       "      <td>68</td>\n",
       "      <td>62</td>\n",
       "      <td>77</td>\n",
       "    </tr>\n",
       "  </tbody>\n",
       "</table>\n",
       "<p>5 rows × 30 columns</p>\n",
       "</div>"
      ],
      "text/plain": [
       "       ATL BOS CHA CHI CLE DAL DEN DET GSW HOU ... OKC ORL PHI PHO POR SAC  \\\n",
       "season                                         ...                           \n",
       "2017    51  41  73  51  53  74  80  59  81  59 ...  52  62  61  64  93  44   \n",
       "2016    68  79  80  46  83  50  71  75  67  65 ...  53  56  50  68  85  47   \n",
       "2015    87  85  51  90  84  55  70  50  95  85 ...  93  76  63  53  47  52   \n",
       "2014    88  50  61  64  39  38  62  57  80  48 ...  66  52  29  81  80  70   \n",
       "2013    53  59  64  69  60  48  62  59  71  77 ...  89  81  37  46  65  53   \n",
       "\n",
       "       SAS TOR UTA WAS  \n",
       "season                  \n",
       "2017    87  84  51  82  \n",
       "2016    69  84  70  77  \n",
       "2015    69  62  77  75  \n",
       "2014    98  82  61  72  \n",
       "2013    83  68  62  77  \n",
       "\n",
       "[5 rows x 30 columns]"
      ]
     },
     "execution_count": 76,
     "metadata": {},
     "output_type": "execute_result"
    }
   ],
   "source": [
    "df.head()"
   ]
  },
  {
   "cell_type": "code",
   "execution_count": null,
   "metadata": {},
   "outputs": [],
   "source": []
  },
  {
   "cell_type": "code",
   "execution_count": null,
   "metadata": {},
   "outputs": [],
   "source": []
  },
  {
   "cell_type": "code",
   "execution_count": null,
   "metadata": {},
   "outputs": [],
   "source": []
  },
  {
   "cell_type": "code",
   "execution_count": 77,
   "metadata": {},
   "outputs": [],
   "source": [
    "df.to_csv('team-minutes-continuity.csv')"
   ]
  },
  {
   "cell_type": "code",
   "execution_count": 94,
   "metadata": {},
   "outputs": [
    {
     "data": {
      "text/plain": [
       "''"
      ]
     },
     "execution_count": 94,
     "metadata": {},
     "output_type": "execute_result"
    }
   ],
   "source": [
    "df.loc['2002']['CHA']"
   ]
  },
  {
   "cell_type": "code",
   "execution_count": 97,
   "metadata": {},
   "outputs": [],
   "source": [
    "df.replace({'': np.nan}, regex=True, inplace=True)"
   ]
  },
  {
   "cell_type": "code",
   "execution_count": 121,
   "metadata": {},
   "outputs": [
    {
     "data": {
      "text/plain": [
       "POR    7.219599e+24\n",
       "SAS    6.745923e+24\n",
       "TOR    6.526637e+24\n",
       "WAS    6.367506e+24\n",
       "GSW    6.283045e+24\n",
       "DEN    6.209005e+24\n",
       "MIA    6.115889e+24\n",
       "MIL    5.959844e+24\n",
       "DAL    5.731195e+24\n",
       "CHA    5.677320e+24\n",
       "PHO    4.975799e+24\n",
       "ORL    4.812896e+24\n",
       "PHI    4.731256e+24\n",
       "NOH    4.652921e+24\n",
       "DET    4.596543e+24\n",
       "HOU    4.589119e+24\n",
       "MEM    4.365891e+24\n",
       "MIN    4.142057e+24\n",
       "CLE    4.141418e+24\n",
       "OKC    4.041490e+24\n",
       "UTA    3.977520e+24\n",
       "ATL    3.976061e+24\n",
       "CHI    3.959159e+24\n",
       "NJN    3.951982e+24\n",
       "SAC    3.421175e+24\n",
       "BOS    3.215273e+24\n",
       "LAL    3.201896e+24\n",
       "IND    3.048175e+24\n",
       "NYK    2.874942e+24\n",
       "LAC    2.831245e+24\n",
       "dtype: float64"
      ]
     },
     "execution_count": 121,
     "metadata": {},
     "output_type": "execute_result"
    }
   ],
   "source": [
    "df.dropna(axis=0, how='any').transpose().mean(axis=1).sort_values(ascending=False)"
   ]
  },
  {
   "cell_type": "code",
   "execution_count": null,
   "metadata": {},
   "outputs": [],
   "source": []
  }
 ],
 "metadata": {
  "kernelspec": {
   "display_name": "Python 3",
   "language": "python",
   "name": "python3"
  },
  "language_info": {
   "codemirror_mode": {
    "name": "ipython",
    "version": 3
   },
   "file_extension": ".py",
   "mimetype": "text/x-python",
   "name": "python",
   "nbconvert_exporter": "python",
   "pygments_lexer": "ipython3",
   "version": "3.6.4"
  }
 },
 "nbformat": 4,
 "nbformat_minor": 2
}
